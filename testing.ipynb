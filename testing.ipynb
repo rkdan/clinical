{
 "cells": [
  {
   "cell_type": "code",
   "execution_count": 1,
   "metadata": {},
   "outputs": [
    {
     "data": {
      "text/plain": [
       "True"
      ]
     },
     "execution_count": 1,
     "metadata": {},
     "output_type": "execute_result"
    }
   ],
   "source": [
    "from openai import OpenAI\n",
    "\n",
    "# dotenv\n",
    "from dotenv import load_dotenv\n",
    "load_dotenv()"
   ]
  },
  {
   "cell_type": "code",
   "execution_count": 2,
   "metadata": {},
   "outputs": [],
   "source": [
    "system_prompt = \"\"\"Please take the below text and make it easier to read on a screen. But, the text itself must remain exactly the same with no changes - only the formatting (paragraph breaks, use of bullet points etc) should be added, if and only if appropriate to improve the reading experience. i.e. don’t go overboard in using them. And please don’t add any new subheadings. There must be no changes to the text itself – only the formatting.\"\"\"\n",
    "\n",
    "user_prompt = \"\"\"Primary care context\n",
    "People may develop many different skin lesions throughout their lifetimes, and commonly present to primary care to seek reassurance that they are not cancerous or infective. Most benign skin lesions, such as seborrheic keratoses or dermatofibromas are diagnosed based on clinical appearance (morphology, distribution) and history. The increased access to camera phones and technology-enabled communication platforms (such as Accurx) mean that photos can be shared between patients and clinicians and be used in discussions/referrals to secondary care colleagues. Speak to your practice team about how skin lesions are triaged. Do the community pharmacists have a role in assessment? Do any of the GPs at your practice use a dermatoscope? Whilst on placement, look at as many skin lesions as you can, and practice describing them to your tutor and colleagues. Think about the features that might be suggestive of skin cancer or an underlying malignancy or infection such as HIV and speak to your tutor about the different referral options. Some surgeries offer minor surgery such as excisions, punch biopsies and cryotherapy- ask about thresholds for treatment and the role of Exceptional Funding agreements. Consider how to manage expectations for patients who want removal/treatment of lesions such as skin tags or molluscum contagiosum.\n",
    "Secondary care context\n",
    "Skin cancer is the most common type of cancer in the UK and can present as a new or changing skin lesion i.e. an area that is different from surrounding skin such as a new lump, spot, ulcer or mole that the patient hasn't noticed before or a non-healing sore or mark in the skin ( including moles) that has changed size, shape, colour or texture. These lesions may sometimes be described as itchy, painful or bleeding.\n",
    "Patients may present concerned about a skin lesion or the lesion maybe picked up incidentally by a healthcare professional during a general examination. Think about how you would approach a patient with a skin lesion; taking an accurate history , performing a thorough examination and applying clinical reasoning skills will help guide your management plan. Whilst most skin lesions are benign it is important to recognise an atypical or concerning lesion and refer promptly via a 2 week wait , the Non-pigmented, solitary lesion pathway or Tele-dermatology so that the patient can be assessed by a Dermatologist and the lesion examined or photographed with dermoscopy.\n",
    "Benign skin tumours are very common, student doctors should be aware of the following benign lesions: seborrheic keratosis, dermatofibroma, neurofibroma, epidermoid and pilar cysts, keratoacanthoma, haemangioma, and viral wart. Can you describe the features of pre-malignant skin lesions such as actinic keratosis (solar keratosis) and intra-epithelial carcinoma (Bowen's disease)? Non-melanoma skin cancers are by far the commonest form of skin cancer, Basal cell carcinomas account for almost 75%, whilst SCCs are less common, they have the potential to metastasise and therefore must be referred on a cancer pathway. Consider how you tell the difference and discuss the treatment modalities for pre-malignant versus malignant skin cancers, are you familiar with surgical techniques such as skin biopsy and excision and can you explain to patients the risks and benefits of surgery? You should be able to describe different types of benign melanocytic naevi and recognise the features of malignant melanoma including the different sub-types. It is important to be aware of the differential diagnosis of benign and malignant pigmented lesions and the red flags which should prompt referral. You should be able to discuss the pathological features of a skin cancers, the MDT approach and management. Finally, are you able to demonstrate knowledge of the risk factors of skin cancers but also recognise that skin cancer can affect patients with all skin types as early recognition and referral improves patient outcomes.\"\"\"\n",
    "\n",
    "\n",
    "client = OpenAI()\n",
    "completion = client.chat.completions.create(\n",
    "    model=\"gpt-4o-mini\",\n",
    "    temperature=0.0,\n",
    "    messages=[\n",
    "        {\"role\": \"system\", \"content\": system_prompt},\n",
    "        {\"role\": \"user\", \"content\": user_prompt}\n",
    "    ]\n",
    ")"
   ]
  },
  {
   "cell_type": "code",
   "execution_count": 3,
   "metadata": {},
   "outputs": [],
   "source": [
    "output = completion.choices[0].message.content"
   ]
  },
  {
   "cell_type": "code",
   "execution_count": 5,
   "metadata": {},
   "outputs": [],
   "source": [
    "import nltk\n",
    "from nltk.translate.bleu_score import sentence_bleu, SmoothingFunction"
   ]
  },
  {
   "cell_type": "code",
   "execution_count": 18,
   "metadata": {},
   "outputs": [],
   "source": [
    "def tokenize(text: str) -> list[str]:\n",
    "    \"\"\"\n",
    "    Tokenize text into words. This is a simple space-based tokenization.\n",
    "    You might want to use a more sophisticated tokenizer based on your needs.\n",
    "    \"\"\"\n",
    "    return text.split()\n",
    "\n",
    "def calculate_bleu_score(original: str, reformatted: str, weights: tuple[float, ...] = (0.25, 0.25, 0.25, 0.25)) -> float:\n",
    "    \"\"\"\n",
    "    Calculate BLEU score between original and reformatted text.\n",
    "    \n",
    "    Args:\n",
    "        original (str): The original text\n",
    "        reformatted (str): The reformatted text\n",
    "        weights (tuple): Weights for different n-grams (default: equal weights for 1-4 grams)\n",
    "    \n",
    "    Returns:\n",
    "        float: BLEU score between 0 and 1\n",
    "    \"\"\"\n",
    "    # Tokenize both texts\n",
    "    reference = tokenize(original)\n",
    "    candidate = tokenize(reformatted)\n",
    "    \n",
    "    # Create list of references (BLEU expects a list of references)\n",
    "    references = [reference]\n",
    "    \n",
    "    # Use NLTK's sentence_bleu with smoothing\n",
    "    smoothing = SmoothingFunction().method1  # Using method1 smoothing\n",
    "    \n",
    "    try:\n",
    "        score = sentence_bleu(\n",
    "            references,\n",
    "            candidate,\n",
    "            weights=weights,\n",
    "            smoothing_function=smoothing\n",
    "        )\n",
    "        return score\n",
    "    except Exception as e:\n",
    "        print(f\"Error calculating BLEU score: {e}\")\n",
    "        return 0.0\n",
    "\n",
    "def analyze_differences(original: str, reformatted: str, threshold: float = 0.950) -> dict:\n",
    "    \"\"\"\n",
    "    Analyze the differences between original and reformatted text.\n",
    "    \n",
    "    Args:\n",
    "        original (str): The original text\n",
    "        reformatted (str): The reformatted text\n",
    "        threshold (float): BLEU score threshold for acceptance\n",
    "    \n",
    "    Returns:\n",
    "        dict: Analysis results including BLEU score and validation status\n",
    "    \"\"\"\n",
    "    # Calculate BLEU scores with different n-gram weights\n",
    "    unigram_score = calculate_bleu_score(original, reformatted, weights=(1.0, 0.0, 0.0, 0.0))\n",
    "    bigram_score = calculate_bleu_score(original, reformatted, weights=(0.0, 1.0, 0.0, 0.0))\n",
    "    trigram_score = calculate_bleu_score(original, reformatted, weights=(0.0, 0.0, 1.0, 0.0))\n",
    "    fourgram_score = calculate_bleu_score(original, reformatted, weights=(0.0, 0.0, 0.0, 1.0))\n",
    "    combined_score = calculate_bleu_score(original, reformatted)  # Using default weights\n",
    "    \n",
    "    # Compare token counts\n",
    "    original_tokens = tokenize(original)\n",
    "    reformatted_tokens = tokenize(reformatted)\n",
    "    \n",
    "    return {\n",
    "        \"bleu_scores\": {\n",
    "            \"unigram\": unigram_score,\n",
    "            \"bigram\": bigram_score,\n",
    "            \"trigram\": trigram_score,\n",
    "            \"fourgram\": fourgram_score,\n",
    "            \"combined\": combined_score\n",
    "        },\n",
    "        \"token_counts\": {\n",
    "            \"original\": len(original_tokens),\n",
    "            \"reformatted\": len(reformatted_tokens),\n",
    "            \"difference\": len(reformatted_tokens) - len(original_tokens)\n",
    "        },\n",
    "        \"passes_threshold\": combined_score >= threshold,\n",
    "        \"needs_review\": combined_score < threshold\n",
    "    }"
   ]
  },
  {
   "cell_type": "code",
   "execution_count": 19,
   "metadata": {},
   "outputs": [],
   "source": [
    "results = analyze_differences(user_prompt_strip, output_strip)"
   ]
  },
  {
   "cell_type": "code",
   "execution_count": 20,
   "metadata": {},
   "outputs": [
    {
     "name": "stdout",
     "output_type": "stream",
     "text": [
      "\n",
      "Analysis Results:\n",
      "BLEU Scores:\n",
      "  unigram: 0.9951\n",
      "  bigram: 0.9903\n",
      "  trigram: 0.9854\n",
      "  fourgram: 0.9805\n",
      "  combined: 0.9878\n"
     ]
    }
   ],
   "source": [
    "print(\"\\nAnalysis Results:\")\n",
    "print(f\"BLEU Scores:\")\n",
    "for gram_type, score in results[\"bleu_scores\"].items():\n",
    "    print(f\"  {gram_type}: {score:.4f}\")"
   ]
  },
  {
   "cell_type": "code",
   "execution_count": 21,
   "metadata": {},
   "outputs": [
    {
     "name": "stdout",
     "output_type": "stream",
     "text": [
      "\n",
      "Token Analysis:\n",
      "  Original count: 617\n",
      "  Reformatted count: 616\n",
      "  Difference: -1\n",
      "\n",
      "Passes threshold: True\n",
      "Needs manual review: False\n"
     ]
    }
   ],
   "source": [
    "print(\"\\nToken Analysis:\")\n",
    "print(f\"  Original count: {results['token_counts']['original']}\")\n",
    "print(f\"  Reformatted count: {results['token_counts']['reformatted']}\")\n",
    "print(f\"  Difference: {results['token_counts']['difference']}\")\n",
    "\n",
    "print(f\"\\nPasses threshold: {results['passes_threshold']}\")\n",
    "print(f\"Needs manual review: {results['needs_review']}\")"
   ]
  },
  {
   "cell_type": "code",
   "execution_count": 9,
   "metadata": {},
   "outputs": [],
   "source": [
    "def clean_text(text: str) -> str:\n",
    "    # Convert to lowercase\n",
    "    text = text.lower()\n",
    "    \n",
    "    # First, protect number-word hyphens by replacing them with a special marker\n",
    "    import re\n",
    "    text = re.sub(r'(\\d)-([a-z])', r'\\1§\\2', text)\n",
    "    \n",
    "    # Remove special chars and newlines (keep letters, numbers, spaces)\n",
    "    text = re.sub(r'[^a-z0-9\\s§]', '', text)\n",
    "    \n",
    "    # Replace multiple spaces with single space\n",
    "    text = re.sub(r'\\s+', ' ', text)\n",
    "    \n",
    "    # Restore protected hyphens\n",
    "    text = text.replace('§', '-')\n",
    "    \n",
    "    # Remove leading/trailing whitespace\n",
    "    text = text.strip()\n",
    "    \n",
    "    return text"
   ]
  },
  {
   "cell_type": "code",
   "execution_count": 10,
   "metadata": {},
   "outputs": [],
   "source": [
    "user_prompt_strip = clean_text(user_prompt)\n",
    "output_strip = clean_text(output)"
   ]
  },
  {
   "cell_type": "code",
   "execution_count": 93,
   "metadata": {},
   "outputs": [],
   "source": [
    "from rouge_score import rouge_scorer\n",
    "scorer = rouge_scorer.RougeScorer(['rouge1', 'rougeL'], use_stemmer=True)"
   ]
  },
  {
   "cell_type": "code",
   "execution_count": 94,
   "metadata": {},
   "outputs": [],
   "source": [
    "scores = scorer.score(user_prompt, output)"
   ]
  },
  {
   "cell_type": "code",
   "execution_count": 95,
   "metadata": {},
   "outputs": [
    {
     "data": {
      "text/plain": [
       "{'rouge1': Score(precision=0.9968253968253968, recall=0.9952456418383518, fmeasure=0.9960348929421095),\n",
       " 'rougeL': Score(precision=0.9968253968253968, recall=0.9952456418383518, fmeasure=0.9960348929421095)}"
      ]
     },
     "execution_count": 95,
     "metadata": {},
     "output_type": "execute_result"
    }
   ],
   "source": [
    "scores"
   ]
  },
  {
   "cell_type": "code",
   "execution_count": 96,
   "metadata": {},
   "outputs": [
    {
     "name": "stdout",
     "output_type": "stream",
     "text": [
      "617\n",
      "615\n"
     ]
    }
   ],
   "source": [
    "user_words = user_prompt_strip.split()\n",
    "output_words = output_strip.split()\n",
    "\n",
    "print(len(user_words))\n",
    "print(len(output_words))"
   ]
  },
  {
   "cell_type": "code",
   "execution_count": 80,
   "metadata": {},
   "outputs": [
    {
     "data": {
      "text/plain": [
       "{'2', 'maybe', 'week'}"
      ]
     },
     "execution_count": 80,
     "metadata": {},
     "output_type": "execute_result"
    }
   ],
   "source": [
    "set(user_words) - set(output_words)"
   ]
  },
  {
   "cell_type": "code",
   "execution_count": 23,
   "metadata": {},
   "outputs": [
    {
     "name": "stdout",
     "output_type": "stream",
     "text": [
      "primary care context people may develop many different skin lesions throughout their lifetimes and commonly present to primary care to seek reassurance that they are not cancerous or infective most benign skin lesions such as seborrheic keratoses or dermatofibromas are diagnosed based on clinical appearance morphology distribution and history the increased access to camera phones and technologyenabled communication platforms such as accurx mean that photos can be shared between patients and clinicians and be used in discussionsreferrals to secondary care colleagues speak to your practice team about how skin lesions are triaged do the community pharmacists have a role in assessment do any of the gps at your practice use a dermatoscope whilst on placement look at as many skin lesions as you can and practice describing them to your tutor and colleagues think about the features that might be suggestive of skin cancer or an underlying malignancy or infection such as hiv and speak to your tutor about the different referral options some surgeries offer minor surgery such as excisions punch biopsies and cryotherapy ask about thresholds for treatment and the role of exceptional funding agreements consider how to manage expectations for patients who want removaltreatment of lesions such as skin tags or molluscum contagiosum secondary care context skin cancer is the most common type of cancer in the uk and can present as a new or changing skin lesion ie an area that is different from surrounding skin such as a new lump spot ulcer or mole that the patient hasnt noticed before or a nonhealing sore or mark in the skin including moles that has changed size shape colour or texture these lesions may sometimes be described as itchy painful or bleeding patients may present concerned about a skin lesion or the lesion may be picked up incidentally by a healthcare professional during a general examination think about how you would approach a patient with a skin lesion taking an accurate history performing a thorough examination and applying clinical reasoning skills will help guide your management plan whilst most skin lesions are benign it is important to recognise an atypical or concerning lesion and refer promptly via a 2 week wait the nonpigmented solitary lesion pathway or teledermatology so that the patient can be assessed by a dermatologist and the lesion examined or photographed with dermoscopy benign skin tumours are very common student doctors should be aware of the following benign lesions seborrheic keratosis dermatofibroma neurofibroma epidermoid and pilar cysts keratoacanthoma haemangioma viral wart can you describe the features of premalignant skin lesions such as actinic keratosis solar keratosis and intraepithelial carcinoma bowens disease nonmelanoma skin cancers are by far the commonest form of skin cancer basal cell carcinomas account for almost 75 whilst sccs are less common they have the potential to metastasise and therefore must be referred on a cancer pathway consider how you tell the difference and discuss the treatment modalities for premalignant versus malignant skin cancers are you familiar with surgical techniques such as skin biopsy and excision and can you explain to patients the risks and benefits of surgery you should be able to describe different types of benign melanocytic naevi and recognise the features of malignant melanoma including the different subtypes it is important to be aware of the differential diagnosis of benign and malignant pigmented lesions and the red flags which should prompt referral you should be able to discuss the pathological features of skin cancers the mdt approach and management finally are you able to demonstrate knowledge of the risk factors of skin cancers but also recognise that skin cancer can affect patients with all skin types as early recognition and referral improves patient outcomes\n"
     ]
    }
   ],
   "source": [
    "print(output_strip)"
   ]
  },
  {
   "cell_type": "code",
   "execution_count": 15,
   "metadata": {},
   "outputs": [],
   "source": [
    "# strip all newlines, extra space, punctuation, and make lower case.\n",
    "user_prompt_strip = ' '.join(user_prompt.split())\n",
    "user_prompt_strip = user_prompt_strip.replace(\"- \", \"\")\n",
    "\n",
    "# strip all newlines, extra spaces and bullet points from output\n",
    "output_strip = ' '.join(output.split())\n",
    "output_strip = output_strip.replace(\"- \", \"\")"
   ]
  },
  {
   "cell_type": "code",
   "execution_count": 16,
   "metadata": {},
   "outputs": [
    {
     "data": {
      "text/plain": [
       "3991"
      ]
     },
     "execution_count": 16,
     "metadata": {},
     "output_type": "execute_result"
    }
   ],
   "source": [
    "len(user_prompt_strip)"
   ]
  },
  {
   "cell_type": "code",
   "execution_count": 17,
   "metadata": {},
   "outputs": [
    {
     "data": {
      "text/plain": [
       "3987"
      ]
     },
     "execution_count": 17,
     "metadata": {},
     "output_type": "execute_result"
    }
   ],
   "source": [
    "len(output_strip)"
   ]
  },
  {
   "cell_type": "code",
   "execution_count": 13,
   "metadata": {},
   "outputs": [
    {
     "name": "stdout",
     "output_type": "stream",
     "text": [
      "Primary care context People may develop many different skin lesions throughout their lifetimes, and commonly present to primary care to seek reassurance that they are not cancerous or infective. Most benign skin lesions, such as seborrheic keratoses or dermatofibromas are diagnosed based on clinical appearance (morphology, distribution) and history. The increased access to camera phones and technology-enabled communication platforms (such as Accurx) mean that photos can be shared between patients and clinicians and be used in discussions/referrals to secondary care colleagues. Speak to your practice team about how skin lesions are triaged. Do the community pharmacists have a role in assessment? Do any of the GPs at your practice use a dermatoscope? Whilst on placement, look at as many skin lesions as you can, and practice describing them to your tutor and colleagues. Think about the features that might be suggestive of skin cancer or an underlying malignancy or infection such as HIV and speak to your tutor about the different referral options. Some surgeries offer minor surgery such as excisions, punch biopsies and cryotherapy- ask about thresholds for treatment and the role of Exceptional Funding agreements. Consider how to manage expectations for patients who want removal/treatment of lesions such as skin tags or molluscum contagiosum. Secondary care context Skin cancer is the most common type of cancer in the UK and can present as a new or changing skin lesion i.e. an area that is different from surrounding skin such as a new lump, spot, ulcer or mole that the patient hasn't noticed before or a non-healing sore or mark in the skin ( including moles) that has changed size, shape, colour or texture. These lesions may sometimes be described as itchy, painful or bleeding. Patients may present concerned about a skin lesion or the lesion maybe picked up incidentally by a healthcare professional during a general examination. Think about how you would approach a patient with a skin lesion; taking an accurate history , performing a thorough examination and applying clinical reasoning skills will help guide your management plan. Whilst most skin lesions are benign it is important to recognise an atypical or concerning lesion and refer promptly via a 2 week wait , the Non-pigmented, solitary lesion pathway or Tele-dermatology so that the patient can be assessed by a Dermatologist and the lesion examined or photographed with dermoscopy. Benign skin tumours are very common, student doctors should be aware of the following benign lesions: seborrheic keratosis, dermatofibroma, neurofibroma, epidermoid and pilar cysts, keratoacanthoma, haemangioma, and viral wart. Can you describe the features of pre-malignant skin lesions such as actinic keratosis (solar keratosis) and intra-epithelial carcinoma (Bowen's disease)? Non-melanoma skin cancers are by far the commonest form of skin cancer, Basal cell carcinomas account for almost 75%, whilst SCCs are less common, they have the potential to metastasise and therefore must be referred on a cancer pathway. Consider how you tell the difference and discuss the treatment modalities for pre-malignant versus malignant skin cancers, are you familiar with surgical techniques such as skin biopsy and excision and can you explain to patients the risks and benefits of surgery? You should be able to describe different types of benign melanocytic naevi and recognise the features of malignant melanoma including the different sub-types. It is important to be aware of the differential diagnosis of benign and malignant pigmented lesions and the red flags which should prompt referral. You should be able to discuss the pathological features of a skin cancers, the MDT approach and management. Finally, are you able to demonstrate knowledge of the risk factors of skin cancers but also recognise that skin cancer can affect patients with all skin types as early recognition and referral improves patient outcomes.\n"
     ]
    }
   ],
   "source": [
    "print(user_prompt_strip)"
   ]
  },
  {
   "cell_type": "code",
   "execution_count": 14,
   "metadata": {},
   "outputs": [
    {
     "name": "stdout",
     "output_type": "stream",
     "text": [
      "Primary care context People may develop many different skin lesions throughout their lifetimes, and commonly present to primary care to seek reassurance that they are not cancerous or infective. Most benign skin lesions, such as seborrheic keratoses or dermatofibromas, are diagnosed based on clinical appearance (morphology, distribution) and history. The increased access to camera phones and technologyenabled communication platforms (such as Accurx) mean that photos can be shared between patients and clinicians and be used in discussions/referrals to secondary care colleagues.  Speak to your practice team about how skin lesions are triaged.  Do the community pharmacists have a role in assessment?  Do any of the GPs at your practice use a dermatoscope? Whilst on placement, look at as many skin lesions as you can, and practice describing them to your tutor and colleagues. Think about the features that might be suggestive of skin cancer or an underlying malignancy or infection such as HIV and speak to your tutor about the different referral options. Some surgeries offer minor surgery such as excisions, punch biopsies, and cryotherapy  ask about thresholds for treatment and the role of Exceptional Funding agreements. Consider how to manage expectations for patients who want removal/treatment of lesions such as skin tags or molluscum contagiosum. Secondary care context Skin cancer is the most common type of cancer in the UK and can present as a new or changing skin lesion, i.e. an area that is different from surrounding skin such as a new lump, spot, ulcer, or mole that the patient hasn't noticed before or a nonhealing sore or mark in the skin (including moles) that has changed size, shape, colour, or texture. These lesions may sometimes be described as itchy, painful, or bleeding. Patients may present concerned about a skin lesion or the lesion may be picked up incidentally by a healthcare professional during a general examination. Think about how you would approach a patient with a skin lesion; taking an accurate history, performing a thorough examination, and applying clinical reasoning skills will help guide your management plan. Whilst most skin lesions are benign, it is important to recognise an atypical or concerning lesion and refer promptly via a 2 week wait, the Nonpigmented, solitary lesion pathway, or Teledermatology so that the patient can be assessed by a Dermatologist and the lesion examined or photographed with dermoscopy. Benign skin tumours are very common; student doctors should be aware of the following benign lesions:  seborrheic keratosis  dermatofibroma  neurofibroma  epidermoid and pilar cysts  keratoacanthoma  haemangioma  viral wart. Can you describe the features of premalignant skin lesions such as actinic keratosis (solar keratosis) and intraepithelial carcinoma (Bowen's disease)? Nonmelanoma skin cancers are by far the commonest form of skin cancer. Basal cell carcinomas account for almost 75%, whilst SCCs are less common; they have the potential to metastasise and therefore must be referred on a cancer pathway. Consider how you tell the difference and discuss the treatment modalities for premalignant versus malignant skin cancers. Are you familiar with surgical techniques such as skin biopsy and excision, and can you explain to patients the risks and benefits of surgery? You should be able to describe different types of benign melanocytic naevi and recognise the features of malignant melanoma including the different subtypes. It is important to be aware of the differential diagnosis of benign and malignant pigmented lesions and the red flags which should prompt referral. You should be able to discuss the pathological features of skin cancers, the MDT approach, and management. Finally, are you able to demonstrate knowledge of the risk factors of skin cancers but also recognise that skin cancer can affect patients with all skin types as early recognition and referral improves patient outcomes.\n"
     ]
    }
   ],
   "source": [
    "print(output_strip)"
   ]
  },
  {
   "cell_type": "code",
   "execution_count": 81,
   "metadata": {},
   "outputs": [],
   "source": [
    "from rouge_score import rouge_scorer\n",
    "import html\n",
    "from IPython.display import HTML\n",
    "from typing import List, Tuple, Set\n",
    "\n",
    "def find_ngram_positions(text: str, n: int) -> List[Tuple[str, int]]:\n",
    "    \"\"\"Find all n-grams and their starting positions in the text.\"\"\"\n",
    "    words = text.split()\n",
    "    ngrams = []\n",
    "    for i in range(len(words) - n + 1):\n",
    "        ngram = \" \".join(words[i:i + n])\n",
    "        ngrams.append((ngram, i))\n",
    "    return ngrams\n",
    "\n",
    "def get_matching_ngrams(reference: str, candidate: str, n: int) -> Set[str]:\n",
    "    \"\"\"Find all matching n-grams between reference and candidate texts.\"\"\"\n",
    "    ref_ngrams = set(ngram for ngram, _ in find_ngram_positions(reference, n))\n",
    "    cand_ngrams = set(ngram for ngram, _ in find_ngram_positions(candidate, n))\n",
    "    return ref_ngrams.intersection(cand_ngrams)\n",
    "\n",
    "def highlight_matches(text: str, matches: Set[str], n: int) -> str:\n",
    "    \"\"\"Highlight matching n-grams in the text using HTML spans.\"\"\"\n",
    "    words = text.split()\n",
    "    highlighted = words.copy()\n",
    "    \n",
    "    # Find positions of matching n-grams\n",
    "    ngram_positions = find_ngram_positions(text, n)\n",
    "    matching_positions = []\n",
    "    \n",
    "    for ngram, pos in ngram_positions:\n",
    "        if ngram in matches:\n",
    "            matching_positions.extend(range(pos, pos + n))\n",
    "    \n",
    "    # Apply highlighting\n",
    "    for i in range(len(words)):\n",
    "        if i in matching_positions:\n",
    "            highlighted[i] = f'<span style=\"background-color: yellow\">{html.escape(words[i])}</span>'\n",
    "        else:\n",
    "            highlighted[i] = html.escape(words[i])\n",
    "    \n",
    "    return \" \".join(highlighted)\n",
    "\n",
    "def visualize_rouge_matches(reference: str, candidate: str, n: int = 1):\n",
    "    \"\"\"\n",
    "    Visualize matching n-grams between reference and candidate texts.\n",
    "    \n",
    "    Args:\n",
    "        reference: Reference text\n",
    "        candidate: Candidate text to compare against reference\n",
    "        n: Size of n-grams to compare (default: 1 for unigrams)\n",
    "    \n",
    "    Returns:\n",
    "        IPython.display.HTML object with highlighted matching sequences\n",
    "    \"\"\"\n",
    "    # Find matching n-grams\n",
    "    matches = get_matching_ngrams(reference, candidate, n)\n",
    "    \n",
    "    # Highlight matches in both texts\n",
    "    highlighted_ref = highlight_matches(reference, matches, n)\n",
    "    highlighted_cand = highlight_matches(candidate, matches, n)\n",
    "    \n",
    "    # Calculate Rouge score\n",
    "    scorer = rouge_scorer.RougeScorer([f'rouge{n}'], use_stemmer=True)\n",
    "    scores = scorer.score(reference, candidate)\n",
    "    rouge_score = scores[f'rouge{n}'].fmeasure\n",
    "    \n",
    "    # Create HTML output\n",
    "    html_output = f\"\"\"\n",
    "    <div style=\"font-family: monospace; white-space: pre-wrap;\">\n",
    "        <h3>Rouge-{n} Score: {rouge_score:.3f}</h3>\n",
    "        <div style=\"margin: 10px 0;\">\n",
    "            <strong>Reference:</strong><br>\n",
    "            {highlighted_ref}\n",
    "        </div>\n",
    "        <div style=\"margin: 10px 0;\">\n",
    "            <strong>Candidate:</strong><br>\n",
    "            {highlighted_cand}\n",
    "        </div>\n",
    "    </div>\n",
    "    \"\"\"\n",
    "    \n",
    "    return HTML(html_output)"
   ]
  },
  {
   "cell_type": "code",
   "execution_count": 98,
   "metadata": {},
   "outputs": [
    {
     "name": "stdout",
     "output_type": "stream",
     "text": [
      "Primary care context\n",
      "\n",
      "People may develop many different skin lesions throughout their lifetimes, and commonly present to primary care to seek reassurance that they are not cancerous or infective. Most benign skin lesions, such as seborrheic keratoses or dermatofibromas, are diagnosed based on clinical appearance (morphology, distribution) and history. \n",
      "\n",
      "The increased access to camera phones and technology-enabled communication platforms (such as Accurx) mean that photos can be shared between patients and clinicians and be used in discussions/referrals to secondary care colleagues. \n",
      "\n",
      "- Speak to your practice team about how skin lesions are triaged. \n",
      "- Do the community pharmacists have a role in assessment? \n",
      "- Do any of the GPs at your practice use a dermatoscope? \n",
      "\n",
      "Whilst on placement, look at as many skin lesions as you can, and practice describing them to your tutor and colleagues. Think about the features that might be suggestive of skin cancer or an underlying malignancy or infection such as HIV and speak to your tutor about the different referral options. \n",
      "\n",
      "Some surgeries offer minor surgery such as excisions, punch biopsies, and cryotherapy - ask about thresholds for treatment and the role of Exceptional Funding agreements. Consider how to manage expectations for patients who want removal/treatment of lesions such as skin tags or molluscum contagiosum.\n",
      "\n",
      "Secondary care context\n",
      "\n",
      "Skin cancer is the most common type of cancer in the UK and can present as a new or changing skin lesion, i.e. an area that is different from surrounding skin such as a new lump, spot, ulcer, or mole that the patient hasn't noticed before or a non-healing sore or mark in the skin (including moles) that has changed size, shape, colour, or texture. These lesions may sometimes be described as itchy, painful, or bleeding.\n",
      "\n",
      "Patients may present concerned about a skin lesion or the lesion may be picked up incidentally by a healthcare professional during a general examination. Think about how you would approach a patient with a skin lesion; taking an accurate history, performing a thorough examination, and applying clinical reasoning skills will help guide your management plan. \n",
      "\n",
      "Whilst most skin lesions are benign, it is important to recognise an atypical or concerning lesion and refer promptly via a 2-week wait, the Non-pigmented, solitary lesion pathway, or Tele-dermatology so that the patient can be assessed by a Dermatologist and the lesion examined or photographed with dermoscopy.\n",
      "\n",
      "Benign skin tumours are very common; student doctors should be aware of the following benign lesions: \n",
      "- seborrheic keratosis \n",
      "- dermatofibroma \n",
      "- neurofibroma \n",
      "- epidermoid and pilar cysts \n",
      "- keratoacanthoma \n",
      "- haemangioma \n",
      "- viral wart. \n",
      "\n",
      "Can you describe the features of pre-malignant skin lesions such as actinic keratosis (solar keratosis) and intra-epithelial carcinoma (Bowen's disease)? Non-melanoma skin cancers are by far the commonest form of skin cancer. Basal cell carcinomas account for almost 75%, whilst SCCs are less common; they have the potential to metastasise and therefore must be referred on a cancer pathway. \n",
      "\n",
      "Consider how you tell the difference and discuss the treatment modalities for pre-malignant versus malignant skin cancers. Are you familiar with surgical techniques such as skin biopsy and excision, and can you explain to patients the risks and benefits of surgery? \n",
      "\n",
      "You should be able to describe different types of benign melanocytic naevi and recognise the features of malignant melanoma including the different sub-types. It is important to be aware of the differential diagnosis of benign and malignant pigmented lesions and the red flags which should prompt referral. \n",
      "\n",
      "You should be able to discuss the pathological features of skin cancers, the MDT approach, and management. Finally, are you able to demonstrate knowledge of the risk factors of skin cancers but also recognise that skin cancer can affect patients with all skin types as early recognition and referral improves patient outcomes.\n"
     ]
    }
   ],
   "source": [
    "print(output)"
   ]
  },
  {
   "cell_type": "code",
   "execution_count": 102,
   "metadata": {},
   "outputs": [
    {
     "data": {
      "text/html": [
       "\n",
       "    <div style=\"font-family: monospace; white-space: pre-wrap;\">\n",
       "        <h3>Rouge-1 Score: 0.996</h3>\n",
       "        <div style=\"margin: 10px 0;\">\n",
       "            <strong>Reference:</strong><br>\n",
       "            <span style=\"background-color: yellow\">primary</span> <span style=\"background-color: yellow\">care</span> <span style=\"background-color: yellow\">context</span> <span style=\"background-color: yellow\">people</span> <span style=\"background-color: yellow\">may</span> <span style=\"background-color: yellow\">develop</span> <span style=\"background-color: yellow\">many</span> <span style=\"background-color: yellow\">different</span> <span style=\"background-color: yellow\">skin</span> <span style=\"background-color: yellow\">lesions</span> <span style=\"background-color: yellow\">throughout</span> <span style=\"background-color: yellow\">their</span> <span style=\"background-color: yellow\">lifetimes</span> <span style=\"background-color: yellow\">and</span> <span style=\"background-color: yellow\">commonly</span> <span style=\"background-color: yellow\">present</span> <span style=\"background-color: yellow\">to</span> <span style=\"background-color: yellow\">primary</span> <span style=\"background-color: yellow\">care</span> <span style=\"background-color: yellow\">to</span> <span style=\"background-color: yellow\">seek</span> <span style=\"background-color: yellow\">reassurance</span> <span style=\"background-color: yellow\">that</span> <span style=\"background-color: yellow\">they</span> <span style=\"background-color: yellow\">are</span> <span style=\"background-color: yellow\">not</span> <span style=\"background-color: yellow\">cancerous</span> <span style=\"background-color: yellow\">or</span> <span style=\"background-color: yellow\">infective</span> <span style=\"background-color: yellow\">most</span> <span style=\"background-color: yellow\">benign</span> <span style=\"background-color: yellow\">skin</span> <span style=\"background-color: yellow\">lesions</span> <span style=\"background-color: yellow\">such</span> <span style=\"background-color: yellow\">as</span> <span style=\"background-color: yellow\">seborrheic</span> <span style=\"background-color: yellow\">keratoses</span> <span style=\"background-color: yellow\">or</span> <span style=\"background-color: yellow\">dermatofibromas</span> <span style=\"background-color: yellow\">are</span> <span style=\"background-color: yellow\">diagnosed</span> <span style=\"background-color: yellow\">based</span> <span style=\"background-color: yellow\">on</span> <span style=\"background-color: yellow\">clinical</span> <span style=\"background-color: yellow\">appearance</span> <span style=\"background-color: yellow\">morphology</span> <span style=\"background-color: yellow\">distribution</span> <span style=\"background-color: yellow\">and</span> <span style=\"background-color: yellow\">history</span> <span style=\"background-color: yellow\">the</span> <span style=\"background-color: yellow\">increased</span> <span style=\"background-color: yellow\">access</span> <span style=\"background-color: yellow\">to</span> <span style=\"background-color: yellow\">camera</span> <span style=\"background-color: yellow\">phones</span> <span style=\"background-color: yellow\">and</span> <span style=\"background-color: yellow\">technologyenabled</span> <span style=\"background-color: yellow\">communication</span> <span style=\"background-color: yellow\">platforms</span> <span style=\"background-color: yellow\">such</span> <span style=\"background-color: yellow\">as</span> <span style=\"background-color: yellow\">accurx</span> <span style=\"background-color: yellow\">mean</span> <span style=\"background-color: yellow\">that</span> <span style=\"background-color: yellow\">photos</span> <span style=\"background-color: yellow\">can</span> <span style=\"background-color: yellow\">be</span> <span style=\"background-color: yellow\">shared</span> <span style=\"background-color: yellow\">between</span> <span style=\"background-color: yellow\">patients</span> <span style=\"background-color: yellow\">and</span> <span style=\"background-color: yellow\">clinicians</span> <span style=\"background-color: yellow\">and</span> <span style=\"background-color: yellow\">be</span> <span style=\"background-color: yellow\">used</span> <span style=\"background-color: yellow\">in</span> <span style=\"background-color: yellow\">discussionsreferrals</span> <span style=\"background-color: yellow\">to</span> <span style=\"background-color: yellow\">secondary</span> <span style=\"background-color: yellow\">care</span> <span style=\"background-color: yellow\">colleagues</span> <span style=\"background-color: yellow\">speak</span> <span style=\"background-color: yellow\">to</span> <span style=\"background-color: yellow\">your</span> <span style=\"background-color: yellow\">practice</span> <span style=\"background-color: yellow\">team</span> <span style=\"background-color: yellow\">about</span> <span style=\"background-color: yellow\">how</span> <span style=\"background-color: yellow\">skin</span> <span style=\"background-color: yellow\">lesions</span> <span style=\"background-color: yellow\">are</span> <span style=\"background-color: yellow\">triaged</span> <span style=\"background-color: yellow\">do</span> <span style=\"background-color: yellow\">the</span> <span style=\"background-color: yellow\">community</span> <span style=\"background-color: yellow\">pharmacists</span> <span style=\"background-color: yellow\">have</span> <span style=\"background-color: yellow\">a</span> <span style=\"background-color: yellow\">role</span> <span style=\"background-color: yellow\">in</span> <span style=\"background-color: yellow\">assessment</span> <span style=\"background-color: yellow\">do</span> <span style=\"background-color: yellow\">any</span> <span style=\"background-color: yellow\">of</span> <span style=\"background-color: yellow\">the</span> <span style=\"background-color: yellow\">gps</span> <span style=\"background-color: yellow\">at</span> <span style=\"background-color: yellow\">your</span> <span style=\"background-color: yellow\">practice</span> <span style=\"background-color: yellow\">use</span> <span style=\"background-color: yellow\">a</span> <span style=\"background-color: yellow\">dermatoscope</span> <span style=\"background-color: yellow\">whilst</span> <span style=\"background-color: yellow\">on</span> <span style=\"background-color: yellow\">placement</span> <span style=\"background-color: yellow\">look</span> <span style=\"background-color: yellow\">at</span> <span style=\"background-color: yellow\">as</span> <span style=\"background-color: yellow\">many</span> <span style=\"background-color: yellow\">skin</span> <span style=\"background-color: yellow\">lesions</span> <span style=\"background-color: yellow\">as</span> <span style=\"background-color: yellow\">you</span> <span style=\"background-color: yellow\">can</span> <span style=\"background-color: yellow\">and</span> <span style=\"background-color: yellow\">practice</span> <span style=\"background-color: yellow\">describing</span> <span style=\"background-color: yellow\">them</span> <span style=\"background-color: yellow\">to</span> <span style=\"background-color: yellow\">your</span> <span style=\"background-color: yellow\">tutor</span> <span style=\"background-color: yellow\">and</span> <span style=\"background-color: yellow\">colleagues</span> <span style=\"background-color: yellow\">think</span> <span style=\"background-color: yellow\">about</span> <span style=\"background-color: yellow\">the</span> <span style=\"background-color: yellow\">features</span> <span style=\"background-color: yellow\">that</span> <span style=\"background-color: yellow\">might</span> <span style=\"background-color: yellow\">be</span> <span style=\"background-color: yellow\">suggestive</span> <span style=\"background-color: yellow\">of</span> <span style=\"background-color: yellow\">skin</span> <span style=\"background-color: yellow\">cancer</span> <span style=\"background-color: yellow\">or</span> <span style=\"background-color: yellow\">an</span> <span style=\"background-color: yellow\">underlying</span> <span style=\"background-color: yellow\">malignancy</span> <span style=\"background-color: yellow\">or</span> <span style=\"background-color: yellow\">infection</span> <span style=\"background-color: yellow\">such</span> <span style=\"background-color: yellow\">as</span> <span style=\"background-color: yellow\">hiv</span> <span style=\"background-color: yellow\">and</span> <span style=\"background-color: yellow\">speak</span> <span style=\"background-color: yellow\">to</span> <span style=\"background-color: yellow\">your</span> <span style=\"background-color: yellow\">tutor</span> <span style=\"background-color: yellow\">about</span> <span style=\"background-color: yellow\">the</span> <span style=\"background-color: yellow\">different</span> <span style=\"background-color: yellow\">referral</span> <span style=\"background-color: yellow\">options</span> <span style=\"background-color: yellow\">some</span> <span style=\"background-color: yellow\">surgeries</span> <span style=\"background-color: yellow\">offer</span> <span style=\"background-color: yellow\">minor</span> <span style=\"background-color: yellow\">surgery</span> <span style=\"background-color: yellow\">such</span> <span style=\"background-color: yellow\">as</span> <span style=\"background-color: yellow\">excisions</span> <span style=\"background-color: yellow\">punch</span> <span style=\"background-color: yellow\">biopsies</span> <span style=\"background-color: yellow\">and</span> <span style=\"background-color: yellow\">cryotherapy</span> <span style=\"background-color: yellow\">ask</span> <span style=\"background-color: yellow\">about</span> <span style=\"background-color: yellow\">thresholds</span> <span style=\"background-color: yellow\">for</span> <span style=\"background-color: yellow\">treatment</span> <span style=\"background-color: yellow\">and</span> <span style=\"background-color: yellow\">the</span> <span style=\"background-color: yellow\">role</span> <span style=\"background-color: yellow\">of</span> <span style=\"background-color: yellow\">exceptional</span> <span style=\"background-color: yellow\">funding</span> <span style=\"background-color: yellow\">agreements</span> <span style=\"background-color: yellow\">consider</span> <span style=\"background-color: yellow\">how</span> <span style=\"background-color: yellow\">to</span> <span style=\"background-color: yellow\">manage</span> <span style=\"background-color: yellow\">expectations</span> <span style=\"background-color: yellow\">for</span> <span style=\"background-color: yellow\">patients</span> <span style=\"background-color: yellow\">who</span> <span style=\"background-color: yellow\">want</span> <span style=\"background-color: yellow\">removaltreatment</span> <span style=\"background-color: yellow\">of</span> <span style=\"background-color: yellow\">lesions</span> <span style=\"background-color: yellow\">such</span> <span style=\"background-color: yellow\">as</span> <span style=\"background-color: yellow\">skin</span> <span style=\"background-color: yellow\">tags</span> <span style=\"background-color: yellow\">or</span> <span style=\"background-color: yellow\">molluscum</span> <span style=\"background-color: yellow\">contagiosum</span> <span style=\"background-color: yellow\">secondary</span> <span style=\"background-color: yellow\">care</span> <span style=\"background-color: yellow\">context</span> <span style=\"background-color: yellow\">skin</span> <span style=\"background-color: yellow\">cancer</span> <span style=\"background-color: yellow\">is</span> <span style=\"background-color: yellow\">the</span> <span style=\"background-color: yellow\">most</span> <span style=\"background-color: yellow\">common</span> <span style=\"background-color: yellow\">type</span> <span style=\"background-color: yellow\">of</span> <span style=\"background-color: yellow\">cancer</span> <span style=\"background-color: yellow\">in</span> <span style=\"background-color: yellow\">the</span> <span style=\"background-color: yellow\">uk</span> <span style=\"background-color: yellow\">and</span> <span style=\"background-color: yellow\">can</span> <span style=\"background-color: yellow\">present</span> <span style=\"background-color: yellow\">as</span> <span style=\"background-color: yellow\">a</span> <span style=\"background-color: yellow\">new</span> <span style=\"background-color: yellow\">or</span> <span style=\"background-color: yellow\">changing</span> <span style=\"background-color: yellow\">skin</span> <span style=\"background-color: yellow\">lesion</span> <span style=\"background-color: yellow\">ie</span> <span style=\"background-color: yellow\">an</span> <span style=\"background-color: yellow\">area</span> <span style=\"background-color: yellow\">that</span> <span style=\"background-color: yellow\">is</span> <span style=\"background-color: yellow\">different</span> <span style=\"background-color: yellow\">from</span> <span style=\"background-color: yellow\">surrounding</span> <span style=\"background-color: yellow\">skin</span> <span style=\"background-color: yellow\">such</span> <span style=\"background-color: yellow\">as</span> <span style=\"background-color: yellow\">a</span> <span style=\"background-color: yellow\">new</span> <span style=\"background-color: yellow\">lump</span> <span style=\"background-color: yellow\">spot</span> <span style=\"background-color: yellow\">ulcer</span> <span style=\"background-color: yellow\">or</span> <span style=\"background-color: yellow\">mole</span> <span style=\"background-color: yellow\">that</span> <span style=\"background-color: yellow\">the</span> <span style=\"background-color: yellow\">patient</span> <span style=\"background-color: yellow\">hasnt</span> <span style=\"background-color: yellow\">noticed</span> <span style=\"background-color: yellow\">before</span> <span style=\"background-color: yellow\">or</span> <span style=\"background-color: yellow\">a</span> <span style=\"background-color: yellow\">nonhealing</span> <span style=\"background-color: yellow\">sore</span> <span style=\"background-color: yellow\">or</span> <span style=\"background-color: yellow\">mark</span> <span style=\"background-color: yellow\">in</span> <span style=\"background-color: yellow\">the</span> <span style=\"background-color: yellow\">skin</span> <span style=\"background-color: yellow\">including</span> <span style=\"background-color: yellow\">moles</span> <span style=\"background-color: yellow\">that</span> <span style=\"background-color: yellow\">has</span> <span style=\"background-color: yellow\">changed</span> <span style=\"background-color: yellow\">size</span> <span style=\"background-color: yellow\">shape</span> <span style=\"background-color: yellow\">colour</span> <span style=\"background-color: yellow\">or</span> <span style=\"background-color: yellow\">texture</span> <span style=\"background-color: yellow\">these</span> <span style=\"background-color: yellow\">lesions</span> <span style=\"background-color: yellow\">may</span> <span style=\"background-color: yellow\">sometimes</span> <span style=\"background-color: yellow\">be</span> <span style=\"background-color: yellow\">described</span> <span style=\"background-color: yellow\">as</span> <span style=\"background-color: yellow\">itchy</span> <span style=\"background-color: yellow\">painful</span> <span style=\"background-color: yellow\">or</span> <span style=\"background-color: yellow\">bleeding</span> <span style=\"background-color: yellow\">patients</span> <span style=\"background-color: yellow\">may</span> <span style=\"background-color: yellow\">present</span> <span style=\"background-color: yellow\">concerned</span> <span style=\"background-color: yellow\">about</span> <span style=\"background-color: yellow\">a</span> <span style=\"background-color: yellow\">skin</span> <span style=\"background-color: yellow\">lesion</span> <span style=\"background-color: yellow\">or</span> <span style=\"background-color: yellow\">the</span> <span style=\"background-color: yellow\">lesion</span> maybe <span style=\"background-color: yellow\">picked</span> <span style=\"background-color: yellow\">up</span> <span style=\"background-color: yellow\">incidentally</span> <span style=\"background-color: yellow\">by</span> <span style=\"background-color: yellow\">a</span> <span style=\"background-color: yellow\">healthcare</span> <span style=\"background-color: yellow\">professional</span> <span style=\"background-color: yellow\">during</span> <span style=\"background-color: yellow\">a</span> <span style=\"background-color: yellow\">general</span> <span style=\"background-color: yellow\">examination</span> <span style=\"background-color: yellow\">think</span> <span style=\"background-color: yellow\">about</span> <span style=\"background-color: yellow\">how</span> <span style=\"background-color: yellow\">you</span> <span style=\"background-color: yellow\">would</span> <span style=\"background-color: yellow\">approach</span> <span style=\"background-color: yellow\">a</span> <span style=\"background-color: yellow\">patient</span> <span style=\"background-color: yellow\">with</span> <span style=\"background-color: yellow\">a</span> <span style=\"background-color: yellow\">skin</span> <span style=\"background-color: yellow\">lesion</span> <span style=\"background-color: yellow\">taking</span> <span style=\"background-color: yellow\">an</span> <span style=\"background-color: yellow\">accurate</span> <span style=\"background-color: yellow\">history</span> <span style=\"background-color: yellow\">performing</span> <span style=\"background-color: yellow\">a</span> <span style=\"background-color: yellow\">thorough</span> <span style=\"background-color: yellow\">examination</span> <span style=\"background-color: yellow\">and</span> <span style=\"background-color: yellow\">applying</span> <span style=\"background-color: yellow\">clinical</span> <span style=\"background-color: yellow\">reasoning</span> <span style=\"background-color: yellow\">skills</span> <span style=\"background-color: yellow\">will</span> <span style=\"background-color: yellow\">help</span> <span style=\"background-color: yellow\">guide</span> <span style=\"background-color: yellow\">your</span> <span style=\"background-color: yellow\">management</span> <span style=\"background-color: yellow\">plan</span> <span style=\"background-color: yellow\">whilst</span> <span style=\"background-color: yellow\">most</span> <span style=\"background-color: yellow\">skin</span> <span style=\"background-color: yellow\">lesions</span> <span style=\"background-color: yellow\">are</span> <span style=\"background-color: yellow\">benign</span> <span style=\"background-color: yellow\">it</span> <span style=\"background-color: yellow\">is</span> <span style=\"background-color: yellow\">important</span> <span style=\"background-color: yellow\">to</span> <span style=\"background-color: yellow\">recognise</span> <span style=\"background-color: yellow\">an</span> <span style=\"background-color: yellow\">atypical</span> <span style=\"background-color: yellow\">or</span> <span style=\"background-color: yellow\">concerning</span> <span style=\"background-color: yellow\">lesion</span> <span style=\"background-color: yellow\">and</span> <span style=\"background-color: yellow\">refer</span> <span style=\"background-color: yellow\">promptly</span> <span style=\"background-color: yellow\">via</span> <span style=\"background-color: yellow\">a</span> 2 week <span style=\"background-color: yellow\">wait</span> <span style=\"background-color: yellow\">the</span> <span style=\"background-color: yellow\">nonpigmented</span> <span style=\"background-color: yellow\">solitary</span> <span style=\"background-color: yellow\">lesion</span> <span style=\"background-color: yellow\">pathway</span> <span style=\"background-color: yellow\">or</span> <span style=\"background-color: yellow\">teledermatology</span> <span style=\"background-color: yellow\">so</span> <span style=\"background-color: yellow\">that</span> <span style=\"background-color: yellow\">the</span> <span style=\"background-color: yellow\">patient</span> <span style=\"background-color: yellow\">can</span> <span style=\"background-color: yellow\">be</span> <span style=\"background-color: yellow\">assessed</span> <span style=\"background-color: yellow\">by</span> <span style=\"background-color: yellow\">a</span> <span style=\"background-color: yellow\">dermatologist</span> <span style=\"background-color: yellow\">and</span> <span style=\"background-color: yellow\">the</span> <span style=\"background-color: yellow\">lesion</span> <span style=\"background-color: yellow\">examined</span> <span style=\"background-color: yellow\">or</span> <span style=\"background-color: yellow\">photographed</span> <span style=\"background-color: yellow\">with</span> <span style=\"background-color: yellow\">dermoscopy</span> <span style=\"background-color: yellow\">benign</span> <span style=\"background-color: yellow\">skin</span> <span style=\"background-color: yellow\">tumours</span> <span style=\"background-color: yellow\">are</span> <span style=\"background-color: yellow\">very</span> <span style=\"background-color: yellow\">common</span> <span style=\"background-color: yellow\">student</span> <span style=\"background-color: yellow\">doctors</span> <span style=\"background-color: yellow\">should</span> <span style=\"background-color: yellow\">be</span> <span style=\"background-color: yellow\">aware</span> <span style=\"background-color: yellow\">of</span> <span style=\"background-color: yellow\">the</span> <span style=\"background-color: yellow\">following</span> <span style=\"background-color: yellow\">benign</span> <span style=\"background-color: yellow\">lesions</span> <span style=\"background-color: yellow\">seborrheic</span> <span style=\"background-color: yellow\">keratosis</span> <span style=\"background-color: yellow\">dermatofibroma</span> <span style=\"background-color: yellow\">neurofibroma</span> <span style=\"background-color: yellow\">epidermoid</span> <span style=\"background-color: yellow\">and</span> <span style=\"background-color: yellow\">pilar</span> <span style=\"background-color: yellow\">cysts</span> <span style=\"background-color: yellow\">keratoacanthoma</span> <span style=\"background-color: yellow\">haemangioma</span> <span style=\"background-color: yellow\">and</span> <span style=\"background-color: yellow\">viral</span> <span style=\"background-color: yellow\">wart</span> <span style=\"background-color: yellow\">can</span> <span style=\"background-color: yellow\">you</span> <span style=\"background-color: yellow\">describe</span> <span style=\"background-color: yellow\">the</span> <span style=\"background-color: yellow\">features</span> <span style=\"background-color: yellow\">of</span> <span style=\"background-color: yellow\">premalignant</span> <span style=\"background-color: yellow\">skin</span> <span style=\"background-color: yellow\">lesions</span> <span style=\"background-color: yellow\">such</span> <span style=\"background-color: yellow\">as</span> <span style=\"background-color: yellow\">actinic</span> <span style=\"background-color: yellow\">keratosis</span> <span style=\"background-color: yellow\">solar</span> <span style=\"background-color: yellow\">keratosis</span> <span style=\"background-color: yellow\">and</span> <span style=\"background-color: yellow\">intraepithelial</span> <span style=\"background-color: yellow\">carcinoma</span> <span style=\"background-color: yellow\">bowens</span> <span style=\"background-color: yellow\">disease</span> <span style=\"background-color: yellow\">nonmelanoma</span> <span style=\"background-color: yellow\">skin</span> <span style=\"background-color: yellow\">cancers</span> <span style=\"background-color: yellow\">are</span> <span style=\"background-color: yellow\">by</span> <span style=\"background-color: yellow\">far</span> <span style=\"background-color: yellow\">the</span> <span style=\"background-color: yellow\">commonest</span> <span style=\"background-color: yellow\">form</span> <span style=\"background-color: yellow\">of</span> <span style=\"background-color: yellow\">skin</span> <span style=\"background-color: yellow\">cancer</span> <span style=\"background-color: yellow\">basal</span> <span style=\"background-color: yellow\">cell</span> <span style=\"background-color: yellow\">carcinomas</span> <span style=\"background-color: yellow\">account</span> <span style=\"background-color: yellow\">for</span> <span style=\"background-color: yellow\">almost</span> <span style=\"background-color: yellow\">75</span> <span style=\"background-color: yellow\">whilst</span> <span style=\"background-color: yellow\">sccs</span> <span style=\"background-color: yellow\">are</span> <span style=\"background-color: yellow\">less</span> <span style=\"background-color: yellow\">common</span> <span style=\"background-color: yellow\">they</span> <span style=\"background-color: yellow\">have</span> <span style=\"background-color: yellow\">the</span> <span style=\"background-color: yellow\">potential</span> <span style=\"background-color: yellow\">to</span> <span style=\"background-color: yellow\">metastasise</span> <span style=\"background-color: yellow\">and</span> <span style=\"background-color: yellow\">therefore</span> <span style=\"background-color: yellow\">must</span> <span style=\"background-color: yellow\">be</span> <span style=\"background-color: yellow\">referred</span> <span style=\"background-color: yellow\">on</span> <span style=\"background-color: yellow\">a</span> <span style=\"background-color: yellow\">cancer</span> <span style=\"background-color: yellow\">pathway</span> <span style=\"background-color: yellow\">consider</span> <span style=\"background-color: yellow\">how</span> <span style=\"background-color: yellow\">you</span> <span style=\"background-color: yellow\">tell</span> <span style=\"background-color: yellow\">the</span> <span style=\"background-color: yellow\">difference</span> <span style=\"background-color: yellow\">and</span> <span style=\"background-color: yellow\">discuss</span> <span style=\"background-color: yellow\">the</span> <span style=\"background-color: yellow\">treatment</span> <span style=\"background-color: yellow\">modalities</span> <span style=\"background-color: yellow\">for</span> <span style=\"background-color: yellow\">premalignant</span> <span style=\"background-color: yellow\">versus</span> <span style=\"background-color: yellow\">malignant</span> <span style=\"background-color: yellow\">skin</span> <span style=\"background-color: yellow\">cancers</span> <span style=\"background-color: yellow\">are</span> <span style=\"background-color: yellow\">you</span> <span style=\"background-color: yellow\">familiar</span> <span style=\"background-color: yellow\">with</span> <span style=\"background-color: yellow\">surgical</span> <span style=\"background-color: yellow\">techniques</span> <span style=\"background-color: yellow\">such</span> <span style=\"background-color: yellow\">as</span> <span style=\"background-color: yellow\">skin</span> <span style=\"background-color: yellow\">biopsy</span> <span style=\"background-color: yellow\">and</span> <span style=\"background-color: yellow\">excision</span> <span style=\"background-color: yellow\">and</span> <span style=\"background-color: yellow\">can</span> <span style=\"background-color: yellow\">you</span> <span style=\"background-color: yellow\">explain</span> <span style=\"background-color: yellow\">to</span> <span style=\"background-color: yellow\">patients</span> <span style=\"background-color: yellow\">the</span> <span style=\"background-color: yellow\">risks</span> <span style=\"background-color: yellow\">and</span> <span style=\"background-color: yellow\">benefits</span> <span style=\"background-color: yellow\">of</span> <span style=\"background-color: yellow\">surgery</span> <span style=\"background-color: yellow\">you</span> <span style=\"background-color: yellow\">should</span> <span style=\"background-color: yellow\">be</span> <span style=\"background-color: yellow\">able</span> <span style=\"background-color: yellow\">to</span> <span style=\"background-color: yellow\">describe</span> <span style=\"background-color: yellow\">different</span> <span style=\"background-color: yellow\">types</span> <span style=\"background-color: yellow\">of</span> <span style=\"background-color: yellow\">benign</span> <span style=\"background-color: yellow\">melanocytic</span> <span style=\"background-color: yellow\">naevi</span> <span style=\"background-color: yellow\">and</span> <span style=\"background-color: yellow\">recognise</span> <span style=\"background-color: yellow\">the</span> <span style=\"background-color: yellow\">features</span> <span style=\"background-color: yellow\">of</span> <span style=\"background-color: yellow\">malignant</span> <span style=\"background-color: yellow\">melanoma</span> <span style=\"background-color: yellow\">including</span> <span style=\"background-color: yellow\">the</span> <span style=\"background-color: yellow\">different</span> <span style=\"background-color: yellow\">subtypes</span> <span style=\"background-color: yellow\">it</span> <span style=\"background-color: yellow\">is</span> <span style=\"background-color: yellow\">important</span> <span style=\"background-color: yellow\">to</span> <span style=\"background-color: yellow\">be</span> <span style=\"background-color: yellow\">aware</span> <span style=\"background-color: yellow\">of</span> <span style=\"background-color: yellow\">the</span> <span style=\"background-color: yellow\">differential</span> <span style=\"background-color: yellow\">diagnosis</span> <span style=\"background-color: yellow\">of</span> <span style=\"background-color: yellow\">benign</span> <span style=\"background-color: yellow\">and</span> <span style=\"background-color: yellow\">malignant</span> <span style=\"background-color: yellow\">pigmented</span> <span style=\"background-color: yellow\">lesions</span> <span style=\"background-color: yellow\">and</span> <span style=\"background-color: yellow\">the</span> <span style=\"background-color: yellow\">red</span> <span style=\"background-color: yellow\">flags</span> <span style=\"background-color: yellow\">which</span> <span style=\"background-color: yellow\">should</span> <span style=\"background-color: yellow\">prompt</span> <span style=\"background-color: yellow\">referral</span> <span style=\"background-color: yellow\">you</span> <span style=\"background-color: yellow\">should</span> <span style=\"background-color: yellow\">be</span> <span style=\"background-color: yellow\">able</span> <span style=\"background-color: yellow\">to</span> <span style=\"background-color: yellow\">discuss</span> <span style=\"background-color: yellow\">the</span> <span style=\"background-color: yellow\">pathological</span> <span style=\"background-color: yellow\">features</span> <span style=\"background-color: yellow\">of</span> <span style=\"background-color: yellow\">a</span> <span style=\"background-color: yellow\">skin</span> <span style=\"background-color: yellow\">cancers</span> <span style=\"background-color: yellow\">the</span> <span style=\"background-color: yellow\">mdt</span> <span style=\"background-color: yellow\">approach</span> <span style=\"background-color: yellow\">and</span> <span style=\"background-color: yellow\">management</span> <span style=\"background-color: yellow\">finally</span> <span style=\"background-color: yellow\">are</span> <span style=\"background-color: yellow\">you</span> <span style=\"background-color: yellow\">able</span> <span style=\"background-color: yellow\">to</span> <span style=\"background-color: yellow\">demonstrate</span> <span style=\"background-color: yellow\">knowledge</span> <span style=\"background-color: yellow\">of</span> <span style=\"background-color: yellow\">the</span> <span style=\"background-color: yellow\">risk</span> <span style=\"background-color: yellow\">factors</span> <span style=\"background-color: yellow\">of</span> <span style=\"background-color: yellow\">skin</span> <span style=\"background-color: yellow\">cancers</span> <span style=\"background-color: yellow\">but</span> <span style=\"background-color: yellow\">also</span> <span style=\"background-color: yellow\">recognise</span> <span style=\"background-color: yellow\">that</span> <span style=\"background-color: yellow\">skin</span> <span style=\"background-color: yellow\">cancer</span> <span style=\"background-color: yellow\">can</span> <span style=\"background-color: yellow\">affect</span> <span style=\"background-color: yellow\">patients</span> <span style=\"background-color: yellow\">with</span> <span style=\"background-color: yellow\">all</span> <span style=\"background-color: yellow\">skin</span> <span style=\"background-color: yellow\">types</span> <span style=\"background-color: yellow\">as</span> <span style=\"background-color: yellow\">early</span> <span style=\"background-color: yellow\">recognition</span> <span style=\"background-color: yellow\">and</span> <span style=\"background-color: yellow\">referral</span> <span style=\"background-color: yellow\">improves</span> <span style=\"background-color: yellow\">patient</span> <span style=\"background-color: yellow\">outcomes</span>\n",
       "        </div>\n",
       "        <div style=\"margin: 10px 0;\">\n",
       "            <strong>Candidate:</strong><br>\n",
       "            <span style=\"background-color: yellow\">primary</span> <span style=\"background-color: yellow\">care</span> <span style=\"background-color: yellow\">context</span> <span style=\"background-color: yellow\">people</span> <span style=\"background-color: yellow\">may</span> <span style=\"background-color: yellow\">develop</span> <span style=\"background-color: yellow\">many</span> <span style=\"background-color: yellow\">different</span> <span style=\"background-color: yellow\">skin</span> <span style=\"background-color: yellow\">lesions</span> <span style=\"background-color: yellow\">throughout</span> <span style=\"background-color: yellow\">their</span> <span style=\"background-color: yellow\">lifetimes</span> <span style=\"background-color: yellow\">and</span> <span style=\"background-color: yellow\">commonly</span> <span style=\"background-color: yellow\">present</span> <span style=\"background-color: yellow\">to</span> <span style=\"background-color: yellow\">primary</span> <span style=\"background-color: yellow\">care</span> <span style=\"background-color: yellow\">to</span> <span style=\"background-color: yellow\">seek</span> <span style=\"background-color: yellow\">reassurance</span> <span style=\"background-color: yellow\">that</span> <span style=\"background-color: yellow\">they</span> <span style=\"background-color: yellow\">are</span> <span style=\"background-color: yellow\">not</span> <span style=\"background-color: yellow\">cancerous</span> <span style=\"background-color: yellow\">or</span> <span style=\"background-color: yellow\">infective</span> <span style=\"background-color: yellow\">most</span> <span style=\"background-color: yellow\">benign</span> <span style=\"background-color: yellow\">skin</span> <span style=\"background-color: yellow\">lesions</span> <span style=\"background-color: yellow\">such</span> <span style=\"background-color: yellow\">as</span> <span style=\"background-color: yellow\">seborrheic</span> <span style=\"background-color: yellow\">keratoses</span> <span style=\"background-color: yellow\">or</span> <span style=\"background-color: yellow\">dermatofibromas</span> <span style=\"background-color: yellow\">are</span> <span style=\"background-color: yellow\">diagnosed</span> <span style=\"background-color: yellow\">based</span> <span style=\"background-color: yellow\">on</span> <span style=\"background-color: yellow\">clinical</span> <span style=\"background-color: yellow\">appearance</span> <span style=\"background-color: yellow\">morphology</span> <span style=\"background-color: yellow\">distribution</span> <span style=\"background-color: yellow\">and</span> <span style=\"background-color: yellow\">history</span> <span style=\"background-color: yellow\">the</span> <span style=\"background-color: yellow\">increased</span> <span style=\"background-color: yellow\">access</span> <span style=\"background-color: yellow\">to</span> <span style=\"background-color: yellow\">camera</span> <span style=\"background-color: yellow\">phones</span> <span style=\"background-color: yellow\">and</span> <span style=\"background-color: yellow\">technologyenabled</span> <span style=\"background-color: yellow\">communication</span> <span style=\"background-color: yellow\">platforms</span> <span style=\"background-color: yellow\">such</span> <span style=\"background-color: yellow\">as</span> <span style=\"background-color: yellow\">accurx</span> <span style=\"background-color: yellow\">mean</span> <span style=\"background-color: yellow\">that</span> <span style=\"background-color: yellow\">photos</span> <span style=\"background-color: yellow\">can</span> <span style=\"background-color: yellow\">be</span> <span style=\"background-color: yellow\">shared</span> <span style=\"background-color: yellow\">between</span> <span style=\"background-color: yellow\">patients</span> <span style=\"background-color: yellow\">and</span> <span style=\"background-color: yellow\">clinicians</span> <span style=\"background-color: yellow\">and</span> <span style=\"background-color: yellow\">be</span> <span style=\"background-color: yellow\">used</span> <span style=\"background-color: yellow\">in</span> <span style=\"background-color: yellow\">discussionsreferrals</span> <span style=\"background-color: yellow\">to</span> <span style=\"background-color: yellow\">secondary</span> <span style=\"background-color: yellow\">care</span> <span style=\"background-color: yellow\">colleagues</span> <span style=\"background-color: yellow\">speak</span> <span style=\"background-color: yellow\">to</span> <span style=\"background-color: yellow\">your</span> <span style=\"background-color: yellow\">practice</span> <span style=\"background-color: yellow\">team</span> <span style=\"background-color: yellow\">about</span> <span style=\"background-color: yellow\">how</span> <span style=\"background-color: yellow\">skin</span> <span style=\"background-color: yellow\">lesions</span> <span style=\"background-color: yellow\">are</span> <span style=\"background-color: yellow\">triaged</span> <span style=\"background-color: yellow\">do</span> <span style=\"background-color: yellow\">the</span> <span style=\"background-color: yellow\">community</span> <span style=\"background-color: yellow\">pharmacists</span> <span style=\"background-color: yellow\">have</span> <span style=\"background-color: yellow\">a</span> <span style=\"background-color: yellow\">role</span> <span style=\"background-color: yellow\">in</span> <span style=\"background-color: yellow\">assessment</span> <span style=\"background-color: yellow\">do</span> <span style=\"background-color: yellow\">any</span> <span style=\"background-color: yellow\">of</span> <span style=\"background-color: yellow\">the</span> <span style=\"background-color: yellow\">gps</span> <span style=\"background-color: yellow\">at</span> <span style=\"background-color: yellow\">your</span> <span style=\"background-color: yellow\">practice</span> <span style=\"background-color: yellow\">use</span> <span style=\"background-color: yellow\">a</span> <span style=\"background-color: yellow\">dermatoscope</span> <span style=\"background-color: yellow\">whilst</span> <span style=\"background-color: yellow\">on</span> <span style=\"background-color: yellow\">placement</span> <span style=\"background-color: yellow\">look</span> <span style=\"background-color: yellow\">at</span> <span style=\"background-color: yellow\">as</span> <span style=\"background-color: yellow\">many</span> <span style=\"background-color: yellow\">skin</span> <span style=\"background-color: yellow\">lesions</span> <span style=\"background-color: yellow\">as</span> <span style=\"background-color: yellow\">you</span> <span style=\"background-color: yellow\">can</span> <span style=\"background-color: yellow\">and</span> <span style=\"background-color: yellow\">practice</span> <span style=\"background-color: yellow\">describing</span> <span style=\"background-color: yellow\">them</span> <span style=\"background-color: yellow\">to</span> <span style=\"background-color: yellow\">your</span> <span style=\"background-color: yellow\">tutor</span> <span style=\"background-color: yellow\">and</span> <span style=\"background-color: yellow\">colleagues</span> <span style=\"background-color: yellow\">think</span> <span style=\"background-color: yellow\">about</span> <span style=\"background-color: yellow\">the</span> <span style=\"background-color: yellow\">features</span> <span style=\"background-color: yellow\">that</span> <span style=\"background-color: yellow\">might</span> <span style=\"background-color: yellow\">be</span> <span style=\"background-color: yellow\">suggestive</span> <span style=\"background-color: yellow\">of</span> <span style=\"background-color: yellow\">skin</span> <span style=\"background-color: yellow\">cancer</span> <span style=\"background-color: yellow\">or</span> <span style=\"background-color: yellow\">an</span> <span style=\"background-color: yellow\">underlying</span> <span style=\"background-color: yellow\">malignancy</span> <span style=\"background-color: yellow\">or</span> <span style=\"background-color: yellow\">infection</span> <span style=\"background-color: yellow\">such</span> <span style=\"background-color: yellow\">as</span> <span style=\"background-color: yellow\">hiv</span> <span style=\"background-color: yellow\">and</span> <span style=\"background-color: yellow\">speak</span> <span style=\"background-color: yellow\">to</span> <span style=\"background-color: yellow\">your</span> <span style=\"background-color: yellow\">tutor</span> <span style=\"background-color: yellow\">about</span> <span style=\"background-color: yellow\">the</span> <span style=\"background-color: yellow\">different</span> <span style=\"background-color: yellow\">referral</span> <span style=\"background-color: yellow\">options</span> <span style=\"background-color: yellow\">some</span> <span style=\"background-color: yellow\">surgeries</span> <span style=\"background-color: yellow\">offer</span> <span style=\"background-color: yellow\">minor</span> <span style=\"background-color: yellow\">surgery</span> <span style=\"background-color: yellow\">such</span> <span style=\"background-color: yellow\">as</span> <span style=\"background-color: yellow\">excisions</span> <span style=\"background-color: yellow\">punch</span> <span style=\"background-color: yellow\">biopsies</span> <span style=\"background-color: yellow\">and</span> <span style=\"background-color: yellow\">cryotherapy</span> <span style=\"background-color: yellow\">ask</span> <span style=\"background-color: yellow\">about</span> <span style=\"background-color: yellow\">thresholds</span> <span style=\"background-color: yellow\">for</span> <span style=\"background-color: yellow\">treatment</span> <span style=\"background-color: yellow\">and</span> <span style=\"background-color: yellow\">the</span> <span style=\"background-color: yellow\">role</span> <span style=\"background-color: yellow\">of</span> <span style=\"background-color: yellow\">exceptional</span> <span style=\"background-color: yellow\">funding</span> <span style=\"background-color: yellow\">agreements</span> <span style=\"background-color: yellow\">consider</span> <span style=\"background-color: yellow\">how</span> <span style=\"background-color: yellow\">to</span> <span style=\"background-color: yellow\">manage</span> <span style=\"background-color: yellow\">expectations</span> <span style=\"background-color: yellow\">for</span> <span style=\"background-color: yellow\">patients</span> <span style=\"background-color: yellow\">who</span> <span style=\"background-color: yellow\">want</span> <span style=\"background-color: yellow\">removaltreatment</span> <span style=\"background-color: yellow\">of</span> <span style=\"background-color: yellow\">lesions</span> <span style=\"background-color: yellow\">such</span> <span style=\"background-color: yellow\">as</span> <span style=\"background-color: yellow\">skin</span> <span style=\"background-color: yellow\">tags</span> <span style=\"background-color: yellow\">or</span> <span style=\"background-color: yellow\">molluscum</span> <span style=\"background-color: yellow\">contagiosum</span> <span style=\"background-color: yellow\">secondary</span> <span style=\"background-color: yellow\">care</span> <span style=\"background-color: yellow\">context</span> <span style=\"background-color: yellow\">skin</span> <span style=\"background-color: yellow\">cancer</span> <span style=\"background-color: yellow\">is</span> <span style=\"background-color: yellow\">the</span> <span style=\"background-color: yellow\">most</span> <span style=\"background-color: yellow\">common</span> <span style=\"background-color: yellow\">type</span> <span style=\"background-color: yellow\">of</span> <span style=\"background-color: yellow\">cancer</span> <span style=\"background-color: yellow\">in</span> <span style=\"background-color: yellow\">the</span> <span style=\"background-color: yellow\">uk</span> <span style=\"background-color: yellow\">and</span> <span style=\"background-color: yellow\">can</span> <span style=\"background-color: yellow\">present</span> <span style=\"background-color: yellow\">as</span> <span style=\"background-color: yellow\">a</span> <span style=\"background-color: yellow\">new</span> <span style=\"background-color: yellow\">or</span> <span style=\"background-color: yellow\">changing</span> <span style=\"background-color: yellow\">skin</span> <span style=\"background-color: yellow\">lesion</span> <span style=\"background-color: yellow\">ie</span> <span style=\"background-color: yellow\">an</span> <span style=\"background-color: yellow\">area</span> <span style=\"background-color: yellow\">that</span> <span style=\"background-color: yellow\">is</span> <span style=\"background-color: yellow\">different</span> <span style=\"background-color: yellow\">from</span> <span style=\"background-color: yellow\">surrounding</span> <span style=\"background-color: yellow\">skin</span> <span style=\"background-color: yellow\">such</span> <span style=\"background-color: yellow\">as</span> <span style=\"background-color: yellow\">a</span> <span style=\"background-color: yellow\">new</span> <span style=\"background-color: yellow\">lump</span> <span style=\"background-color: yellow\">spot</span> <span style=\"background-color: yellow\">ulcer</span> <span style=\"background-color: yellow\">or</span> <span style=\"background-color: yellow\">mole</span> <span style=\"background-color: yellow\">that</span> <span style=\"background-color: yellow\">the</span> <span style=\"background-color: yellow\">patient</span> <span style=\"background-color: yellow\">hasnt</span> <span style=\"background-color: yellow\">noticed</span> <span style=\"background-color: yellow\">before</span> <span style=\"background-color: yellow\">or</span> <span style=\"background-color: yellow\">a</span> <span style=\"background-color: yellow\">nonhealing</span> <span style=\"background-color: yellow\">sore</span> <span style=\"background-color: yellow\">or</span> <span style=\"background-color: yellow\">mark</span> <span style=\"background-color: yellow\">in</span> <span style=\"background-color: yellow\">the</span> <span style=\"background-color: yellow\">skin</span> <span style=\"background-color: yellow\">including</span> <span style=\"background-color: yellow\">moles</span> <span style=\"background-color: yellow\">that</span> <span style=\"background-color: yellow\">has</span> <span style=\"background-color: yellow\">changed</span> <span style=\"background-color: yellow\">size</span> <span style=\"background-color: yellow\">shape</span> <span style=\"background-color: yellow\">colour</span> <span style=\"background-color: yellow\">or</span> <span style=\"background-color: yellow\">texture</span> <span style=\"background-color: yellow\">these</span> <span style=\"background-color: yellow\">lesions</span> <span style=\"background-color: yellow\">may</span> <span style=\"background-color: yellow\">sometimes</span> <span style=\"background-color: yellow\">be</span> <span style=\"background-color: yellow\">described</span> <span style=\"background-color: yellow\">as</span> <span style=\"background-color: yellow\">itchy</span> <span style=\"background-color: yellow\">painful</span> <span style=\"background-color: yellow\">or</span> <span style=\"background-color: yellow\">bleeding</span> <span style=\"background-color: yellow\">patients</span> <span style=\"background-color: yellow\">may</span> <span style=\"background-color: yellow\">present</span> <span style=\"background-color: yellow\">concerned</span> <span style=\"background-color: yellow\">about</span> <span style=\"background-color: yellow\">a</span> <span style=\"background-color: yellow\">skin</span> <span style=\"background-color: yellow\">lesion</span> <span style=\"background-color: yellow\">or</span> <span style=\"background-color: yellow\">the</span> <span style=\"background-color: yellow\">lesion</span> <span style=\"background-color: yellow\">may</span> <span style=\"background-color: yellow\">be</span> <span style=\"background-color: yellow\">picked</span> <span style=\"background-color: yellow\">up</span> <span style=\"background-color: yellow\">incidentally</span> <span style=\"background-color: yellow\">by</span> <span style=\"background-color: yellow\">a</span> <span style=\"background-color: yellow\">healthcare</span> <span style=\"background-color: yellow\">professional</span> <span style=\"background-color: yellow\">during</span> <span style=\"background-color: yellow\">a</span> <span style=\"background-color: yellow\">general</span> <span style=\"background-color: yellow\">examination</span> <span style=\"background-color: yellow\">think</span> <span style=\"background-color: yellow\">about</span> <span style=\"background-color: yellow\">how</span> <span style=\"background-color: yellow\">you</span> <span style=\"background-color: yellow\">would</span> <span style=\"background-color: yellow\">approach</span> <span style=\"background-color: yellow\">a</span> <span style=\"background-color: yellow\">patient</span> <span style=\"background-color: yellow\">with</span> <span style=\"background-color: yellow\">a</span> <span style=\"background-color: yellow\">skin</span> <span style=\"background-color: yellow\">lesion</span> <span style=\"background-color: yellow\">taking</span> <span style=\"background-color: yellow\">an</span> <span style=\"background-color: yellow\">accurate</span> <span style=\"background-color: yellow\">history</span> <span style=\"background-color: yellow\">performing</span> <span style=\"background-color: yellow\">a</span> <span style=\"background-color: yellow\">thorough</span> <span style=\"background-color: yellow\">examination</span> <span style=\"background-color: yellow\">and</span> <span style=\"background-color: yellow\">applying</span> <span style=\"background-color: yellow\">clinical</span> <span style=\"background-color: yellow\">reasoning</span> <span style=\"background-color: yellow\">skills</span> <span style=\"background-color: yellow\">will</span> <span style=\"background-color: yellow\">help</span> <span style=\"background-color: yellow\">guide</span> <span style=\"background-color: yellow\">your</span> <span style=\"background-color: yellow\">management</span> <span style=\"background-color: yellow\">plan</span> <span style=\"background-color: yellow\">whilst</span> <span style=\"background-color: yellow\">most</span> <span style=\"background-color: yellow\">skin</span> <span style=\"background-color: yellow\">lesions</span> <span style=\"background-color: yellow\">are</span> <span style=\"background-color: yellow\">benign</span> <span style=\"background-color: yellow\">it</span> <span style=\"background-color: yellow\">is</span> <span style=\"background-color: yellow\">important</span> <span style=\"background-color: yellow\">to</span> <span style=\"background-color: yellow\">recognise</span> <span style=\"background-color: yellow\">an</span> <span style=\"background-color: yellow\">atypical</span> <span style=\"background-color: yellow\">or</span> <span style=\"background-color: yellow\">concerning</span> <span style=\"background-color: yellow\">lesion</span> <span style=\"background-color: yellow\">and</span> <span style=\"background-color: yellow\">refer</span> <span style=\"background-color: yellow\">promptly</span> <span style=\"background-color: yellow\">via</span> <span style=\"background-color: yellow\">a</span> 2-week <span style=\"background-color: yellow\">wait</span> <span style=\"background-color: yellow\">the</span> <span style=\"background-color: yellow\">nonpigmented</span> <span style=\"background-color: yellow\">solitary</span> <span style=\"background-color: yellow\">lesion</span> <span style=\"background-color: yellow\">pathway</span> <span style=\"background-color: yellow\">or</span> <span style=\"background-color: yellow\">teledermatology</span> <span style=\"background-color: yellow\">so</span> <span style=\"background-color: yellow\">that</span> <span style=\"background-color: yellow\">the</span> <span style=\"background-color: yellow\">patient</span> <span style=\"background-color: yellow\">can</span> <span style=\"background-color: yellow\">be</span> <span style=\"background-color: yellow\">assessed</span> <span style=\"background-color: yellow\">by</span> <span style=\"background-color: yellow\">a</span> <span style=\"background-color: yellow\">dermatologist</span> <span style=\"background-color: yellow\">and</span> <span style=\"background-color: yellow\">the</span> <span style=\"background-color: yellow\">lesion</span> <span style=\"background-color: yellow\">examined</span> <span style=\"background-color: yellow\">or</span> <span style=\"background-color: yellow\">photographed</span> <span style=\"background-color: yellow\">with</span> <span style=\"background-color: yellow\">dermoscopy</span> <span style=\"background-color: yellow\">benign</span> <span style=\"background-color: yellow\">skin</span> <span style=\"background-color: yellow\">tumours</span> <span style=\"background-color: yellow\">are</span> <span style=\"background-color: yellow\">very</span> <span style=\"background-color: yellow\">common</span> <span style=\"background-color: yellow\">student</span> <span style=\"background-color: yellow\">doctors</span> <span style=\"background-color: yellow\">should</span> <span style=\"background-color: yellow\">be</span> <span style=\"background-color: yellow\">aware</span> <span style=\"background-color: yellow\">of</span> <span style=\"background-color: yellow\">the</span> <span style=\"background-color: yellow\">following</span> <span style=\"background-color: yellow\">benign</span> <span style=\"background-color: yellow\">lesions</span> <span style=\"background-color: yellow\">seborrheic</span> <span style=\"background-color: yellow\">keratosis</span> <span style=\"background-color: yellow\">dermatofibroma</span> <span style=\"background-color: yellow\">neurofibroma</span> <span style=\"background-color: yellow\">epidermoid</span> <span style=\"background-color: yellow\">and</span> <span style=\"background-color: yellow\">pilar</span> <span style=\"background-color: yellow\">cysts</span> <span style=\"background-color: yellow\">keratoacanthoma</span> <span style=\"background-color: yellow\">haemangioma</span> <span style=\"background-color: yellow\">viral</span> <span style=\"background-color: yellow\">wart</span> <span style=\"background-color: yellow\">can</span> <span style=\"background-color: yellow\">you</span> <span style=\"background-color: yellow\">describe</span> <span style=\"background-color: yellow\">the</span> <span style=\"background-color: yellow\">features</span> <span style=\"background-color: yellow\">of</span> <span style=\"background-color: yellow\">premalignant</span> <span style=\"background-color: yellow\">skin</span> <span style=\"background-color: yellow\">lesions</span> <span style=\"background-color: yellow\">such</span> <span style=\"background-color: yellow\">as</span> <span style=\"background-color: yellow\">actinic</span> <span style=\"background-color: yellow\">keratosis</span> <span style=\"background-color: yellow\">solar</span> <span style=\"background-color: yellow\">keratosis</span> <span style=\"background-color: yellow\">and</span> <span style=\"background-color: yellow\">intraepithelial</span> <span style=\"background-color: yellow\">carcinoma</span> <span style=\"background-color: yellow\">bowens</span> <span style=\"background-color: yellow\">disease</span> <span style=\"background-color: yellow\">nonmelanoma</span> <span style=\"background-color: yellow\">skin</span> <span style=\"background-color: yellow\">cancers</span> <span style=\"background-color: yellow\">are</span> <span style=\"background-color: yellow\">by</span> <span style=\"background-color: yellow\">far</span> <span style=\"background-color: yellow\">the</span> <span style=\"background-color: yellow\">commonest</span> <span style=\"background-color: yellow\">form</span> <span style=\"background-color: yellow\">of</span> <span style=\"background-color: yellow\">skin</span> <span style=\"background-color: yellow\">cancer</span> <span style=\"background-color: yellow\">basal</span> <span style=\"background-color: yellow\">cell</span> <span style=\"background-color: yellow\">carcinomas</span> <span style=\"background-color: yellow\">account</span> <span style=\"background-color: yellow\">for</span> <span style=\"background-color: yellow\">almost</span> <span style=\"background-color: yellow\">75</span> <span style=\"background-color: yellow\">whilst</span> <span style=\"background-color: yellow\">sccs</span> <span style=\"background-color: yellow\">are</span> <span style=\"background-color: yellow\">less</span> <span style=\"background-color: yellow\">common</span> <span style=\"background-color: yellow\">they</span> <span style=\"background-color: yellow\">have</span> <span style=\"background-color: yellow\">the</span> <span style=\"background-color: yellow\">potential</span> <span style=\"background-color: yellow\">to</span> <span style=\"background-color: yellow\">metastasise</span> <span style=\"background-color: yellow\">and</span> <span style=\"background-color: yellow\">therefore</span> <span style=\"background-color: yellow\">must</span> <span style=\"background-color: yellow\">be</span> <span style=\"background-color: yellow\">referred</span> <span style=\"background-color: yellow\">on</span> <span style=\"background-color: yellow\">a</span> <span style=\"background-color: yellow\">cancer</span> <span style=\"background-color: yellow\">pathway</span> <span style=\"background-color: yellow\">consider</span> <span style=\"background-color: yellow\">how</span> <span style=\"background-color: yellow\">you</span> <span style=\"background-color: yellow\">tell</span> <span style=\"background-color: yellow\">the</span> <span style=\"background-color: yellow\">difference</span> <span style=\"background-color: yellow\">and</span> <span style=\"background-color: yellow\">discuss</span> <span style=\"background-color: yellow\">the</span> <span style=\"background-color: yellow\">treatment</span> <span style=\"background-color: yellow\">modalities</span> <span style=\"background-color: yellow\">for</span> <span style=\"background-color: yellow\">premalignant</span> <span style=\"background-color: yellow\">versus</span> <span style=\"background-color: yellow\">malignant</span> <span style=\"background-color: yellow\">skin</span> <span style=\"background-color: yellow\">cancers</span> <span style=\"background-color: yellow\">are</span> <span style=\"background-color: yellow\">you</span> <span style=\"background-color: yellow\">familiar</span> <span style=\"background-color: yellow\">with</span> <span style=\"background-color: yellow\">surgical</span> <span style=\"background-color: yellow\">techniques</span> <span style=\"background-color: yellow\">such</span> <span style=\"background-color: yellow\">as</span> <span style=\"background-color: yellow\">skin</span> <span style=\"background-color: yellow\">biopsy</span> <span style=\"background-color: yellow\">and</span> <span style=\"background-color: yellow\">excision</span> <span style=\"background-color: yellow\">and</span> <span style=\"background-color: yellow\">can</span> <span style=\"background-color: yellow\">you</span> <span style=\"background-color: yellow\">explain</span> <span style=\"background-color: yellow\">to</span> <span style=\"background-color: yellow\">patients</span> <span style=\"background-color: yellow\">the</span> <span style=\"background-color: yellow\">risks</span> <span style=\"background-color: yellow\">and</span> <span style=\"background-color: yellow\">benefits</span> <span style=\"background-color: yellow\">of</span> <span style=\"background-color: yellow\">surgery</span> <span style=\"background-color: yellow\">you</span> <span style=\"background-color: yellow\">should</span> <span style=\"background-color: yellow\">be</span> <span style=\"background-color: yellow\">able</span> <span style=\"background-color: yellow\">to</span> <span style=\"background-color: yellow\">describe</span> <span style=\"background-color: yellow\">different</span> <span style=\"background-color: yellow\">types</span> <span style=\"background-color: yellow\">of</span> <span style=\"background-color: yellow\">benign</span> <span style=\"background-color: yellow\">melanocytic</span> <span style=\"background-color: yellow\">naevi</span> <span style=\"background-color: yellow\">and</span> <span style=\"background-color: yellow\">recognise</span> <span style=\"background-color: yellow\">the</span> <span style=\"background-color: yellow\">features</span> <span style=\"background-color: yellow\">of</span> <span style=\"background-color: yellow\">malignant</span> <span style=\"background-color: yellow\">melanoma</span> <span style=\"background-color: yellow\">including</span> <span style=\"background-color: yellow\">the</span> <span style=\"background-color: yellow\">different</span> <span style=\"background-color: yellow\">subtypes</span> <span style=\"background-color: yellow\">it</span> <span style=\"background-color: yellow\">is</span> <span style=\"background-color: yellow\">important</span> <span style=\"background-color: yellow\">to</span> <span style=\"background-color: yellow\">be</span> <span style=\"background-color: yellow\">aware</span> <span style=\"background-color: yellow\">of</span> <span style=\"background-color: yellow\">the</span> <span style=\"background-color: yellow\">differential</span> <span style=\"background-color: yellow\">diagnosis</span> <span style=\"background-color: yellow\">of</span> <span style=\"background-color: yellow\">benign</span> <span style=\"background-color: yellow\">and</span> <span style=\"background-color: yellow\">malignant</span> <span style=\"background-color: yellow\">pigmented</span> <span style=\"background-color: yellow\">lesions</span> <span style=\"background-color: yellow\">and</span> <span style=\"background-color: yellow\">the</span> <span style=\"background-color: yellow\">red</span> <span style=\"background-color: yellow\">flags</span> <span style=\"background-color: yellow\">which</span> <span style=\"background-color: yellow\">should</span> <span style=\"background-color: yellow\">prompt</span> <span style=\"background-color: yellow\">referral</span> <span style=\"background-color: yellow\">you</span> <span style=\"background-color: yellow\">should</span> <span style=\"background-color: yellow\">be</span> <span style=\"background-color: yellow\">able</span> <span style=\"background-color: yellow\">to</span> <span style=\"background-color: yellow\">discuss</span> <span style=\"background-color: yellow\">the</span> <span style=\"background-color: yellow\">pathological</span> <span style=\"background-color: yellow\">features</span> <span style=\"background-color: yellow\">of</span> <span style=\"background-color: yellow\">skin</span> <span style=\"background-color: yellow\">cancers</span> <span style=\"background-color: yellow\">the</span> <span style=\"background-color: yellow\">mdt</span> <span style=\"background-color: yellow\">approach</span> <span style=\"background-color: yellow\">and</span> <span style=\"background-color: yellow\">management</span> <span style=\"background-color: yellow\">finally</span> <span style=\"background-color: yellow\">are</span> <span style=\"background-color: yellow\">you</span> <span style=\"background-color: yellow\">able</span> <span style=\"background-color: yellow\">to</span> <span style=\"background-color: yellow\">demonstrate</span> <span style=\"background-color: yellow\">knowledge</span> <span style=\"background-color: yellow\">of</span> <span style=\"background-color: yellow\">the</span> <span style=\"background-color: yellow\">risk</span> <span style=\"background-color: yellow\">factors</span> <span style=\"background-color: yellow\">of</span> <span style=\"background-color: yellow\">skin</span> <span style=\"background-color: yellow\">cancers</span> <span style=\"background-color: yellow\">but</span> <span style=\"background-color: yellow\">also</span> <span style=\"background-color: yellow\">recognise</span> <span style=\"background-color: yellow\">that</span> <span style=\"background-color: yellow\">skin</span> <span style=\"background-color: yellow\">cancer</span> <span style=\"background-color: yellow\">can</span> <span style=\"background-color: yellow\">affect</span> <span style=\"background-color: yellow\">patients</span> <span style=\"background-color: yellow\">with</span> <span style=\"background-color: yellow\">all</span> <span style=\"background-color: yellow\">skin</span> <span style=\"background-color: yellow\">types</span> <span style=\"background-color: yellow\">as</span> <span style=\"background-color: yellow\">early</span> <span style=\"background-color: yellow\">recognition</span> <span style=\"background-color: yellow\">and</span> <span style=\"background-color: yellow\">referral</span> <span style=\"background-color: yellow\">improves</span> <span style=\"background-color: yellow\">patient</span> <span style=\"background-color: yellow\">outcomes</span>\n",
       "        </div>\n",
       "    </div>\n",
       "    "
      ],
      "text/plain": [
       "<IPython.core.display.HTML object>"
      ]
     },
     "metadata": {},
     "output_type": "display_data"
    }
   ],
   "source": [
    "reference = \"The quick brown fox jumps over the lazy dog\"\n",
    "candidate = \"The brown fox jumps over the lazy dog\"\n",
    "\n",
    "# Visualize unigram matches\n",
    "display(visualize_rouge_matches(user_prompt_strip, output_strip, n=1))\n"
   ]
  },
  {
   "cell_type": "code",
   "execution_count": 104,
   "metadata": {},
   "outputs": [
    {
     "data": {
      "text/plain": [
       "56.0"
      ]
     },
     "execution_count": 104,
     "metadata": {},
     "output_type": "execute_result"
    }
   ],
   "source": [
    "168*20/60"
   ]
  },
  {
   "cell_type": "code",
   "execution_count": 105,
   "metadata": {},
   "outputs": [
    {
     "data": {
      "text/plain": [
       "843.25"
      ]
     },
     "execution_count": 105,
     "metadata": {},
     "output_type": "execute_result"
    }
   ],
   "source": [
    "3373/4\n"
   ]
  },
  {
   "cell_type": "code",
   "execution_count": 111,
   "metadata": {},
   "outputs": [
    {
     "data": {
      "text/plain": [
       "0.1062495"
      ]
     },
     "execution_count": 111,
     "metadata": {},
     "output_type": "execute_result"
    }
   ],
   "source": [
    "168*(((843.25/1000000)*0.15) + ((843.25/1000000)*0.6))"
   ]
  },
  {
   "cell_type": "code",
   "execution_count": 108,
   "metadata": {},
   "outputs": [
    {
     "data": {
      "text/plain": [
       "0.00050595"
      ]
     },
     "execution_count": 108,
     "metadata": {},
     "output_type": "execute_result"
    }
   ],
   "source": [
    "(843.25/1000000)*0.6"
   ]
  },
  {
   "cell_type": "code",
   "execution_count": null,
   "metadata": {},
   "outputs": [],
   "source": []
  }
 ],
 "metadata": {
  "kernelspec": {
   "display_name": "venv",
   "language": "python",
   "name": "python3"
  },
  "language_info": {
   "codemirror_mode": {
    "name": "ipython",
    "version": 3
   },
   "file_extension": ".py",
   "mimetype": "text/x-python",
   "name": "python",
   "nbconvert_exporter": "python",
   "pygments_lexer": "ipython3",
   "version": "3.11.8"
  }
 },
 "nbformat": 4,
 "nbformat_minor": 2
}
